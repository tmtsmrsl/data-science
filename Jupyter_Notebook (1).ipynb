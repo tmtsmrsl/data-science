{
 "cells": [
  {
   "cell_type": "markdown",
   "metadata": {
    "pycharm": {
     "name": "#%% md\n"
    }
   },
   "source": [
    "<center>\n",
    "    <img src=\"https://s3-api.us-geo.objectstorage.softlayer.net/cf-courses-data/CognitiveClass/Logos/organization_logo/organization_logo.png\" width=\"300\" alt=\"cognitiveclass.ai logo\"  />\n",
    "</center>\n"
   ]
  },
  {
   "cell_type": "markdown",
   "metadata": {
    "pycharm": {
     "name": "#%% md\n"
    }
   },
   "source": [
    "#### Add your code below following the instructions given in the course\n"
   ]
  },
  {
   "cell_type": "markdown",
   "metadata": {
    "pycharm": {
     "name": "#%% md\n"
    }
   },
   "source": [
    "# My Jupyter Notebook on IBM Watson Studio"
   ]
  },
  {
   "cell_type": "markdown",
   "metadata": {
    "pycharm": {
     "name": "#%% md\n"
    }
   },
   "source": [
    "**Timotius Marselo**  \n",
    "Student"
   ]
  },
  {
   "cell_type": "markdown",
   "metadata": {
    "pycharm": {
     "name": "#%% md\n"
    }
   },
   "source": [
    "*I am interested in data science because I like problem-solving. By learning data science, I will be able to extract new insights from data to solve problems.*"
   ]
  },
  {
   "cell_type": "markdown",
   "metadata": {
    "pycharm": {
     "name": "#%% md\n"
    }
   },
   "source": [
    "### The code in Cell 5 will print my name."
   ]
  },
  {
   "cell_type": "code",
   "execution_count": 1,
   "metadata": {
    "collapsed": false,
    "jupyter": {
     "outputs_hidden": false
    },
    "pycharm": {
     "name": "#%%\n"
    }
   },
   "outputs": [
    {
     "name": "stdout",
     "output_type": "stream",
     "text": [
      "Timotius Marselo\n"
     ]
    }
   ],
   "source": [
    "name = 'Timotius Marselo'\n",
    "print(name)"
   ]
  },
  {
   "cell_type": "markdown",
   "metadata": {
    "pycharm": {
     "name": "#%% md\n"
    }
   },
   "source": [
    "### Horizontal Rule:\n",
    "----------------------\n",
    "### Bullet List:\n",
    "- A\n",
    "- B\n",
    "- C\n",
    "\n",
    "### Numbered List:\n",
    "1. A\n",
    "2. B\n",
    "3. C\n",
    "\n",
    "### Table:\n",
    "|Column 1|Column 2|\n",
    "---------|---------\n",
    "|A       |1       |\n",
    "|B       |2       |\n",
    "\n",
    "### Hyperlinks\n",
    "[Open Google](https://www.google.com)\n",
    "\n",
    "### Images\n",
    "![Swimming Dog](https://www.crittear.com/wp-content/uploads/2022/02/how-do-i-protect-my-dogs-ears-when-swimming.png)\n",
    "\n",
    "### Code Highlighting\n",
    "In the previous cell, `print` function was used.\n",
    "\n",
    "### Blocked Quotes\n",
    "> This is a blocked quote.\n",
    ">> This is also a blocked quote.\n",
    "\n",
    "### Strikethrough\n",
    "~~Finished~~"
   ]
  }
 ],
 "metadata": {
  "kernelspec": {
   "display_name": "Python",
   "language": "python",
   "name": "conda-env-python-py"
  },
  "language_info": {
   "codemirror_mode": {
    "name": "ipython",
    "version": 3
   },
   "file_extension": ".py",
   "mimetype": "text/x-python",
   "name": "python",
   "nbconvert_exporter": "python",
   "pygments_lexer": "ipython3",
   "version": "3.7.12"
  }
 },
 "nbformat": 4,
 "nbformat_minor": 4
}